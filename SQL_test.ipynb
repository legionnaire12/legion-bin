{
  "nbformat": 4,
  "nbformat_minor": 0,
  "metadata": {
    "colab": {
      "name": "SQL test",
      "provenance": [],
      "include_colab_link": true
    },
    "kernelspec": {
      "name": "python3",
      "display_name": "Python 3"
    }
  },
  "cells": [
    {
      "cell_type": "markdown",
      "metadata": {
        "id": "view-in-github",
        "colab_type": "text"
      },
      "source": [
        "<a href=\"https://colab.research.google.com/github/legionnaire12/legion-bin/blob/master/SQL_test.ipynb\" target=\"_parent\"><img src=\"https://colab.research.google.com/assets/colab-badge.svg\" alt=\"Open In Colab\"/></a>"
      ]
    },
    {
      "cell_type": "code",
      "metadata": {
        "id": "4OtG5kdMtBH3",
        "colab_type": "code",
        "outputId": "94eb7694-542d-446d-ebe3-0cfd6b3a28bf",
        "colab": {
          "base_uri": "https://localhost:8080/",
          "height": 51
        }
      },
      "source": [
        "pip install pyts #Installs pyts library"
      ],
      "execution_count": 0,
      "outputs": [
        {
          "output_type": "stream",
          "text": [
            "Requirement already satisfied: pyts in /usr/local/lib/python3.6/dist-packages (0.10.0)\n",
            "Requirement already satisfied: numpy>=1.15.4scipy>=1.3.0scikit-learn>=0.20.4joblib>=0.12numba>=0.45.1 in /usr/local/lib/python3.6/dist-packages (from pyts) (1.17.4)\n"
          ],
          "name": "stdout"
        }
      ]
    },
    {
      "cell_type": "code",
      "metadata": {
        "id": "853zJ3M3BYur",
        "colab_type": "code",
        "outputId": "6b01ddec-d5d6-44b7-a30d-b2441b3d63d5",
        "colab": {
          "base_uri": "https://localhost:8080/",
          "height": 34
        }
      },
      "source": [
        "pip install mysql-connector\n"
      ],
      "execution_count": 0,
      "outputs": [
        {
          "output_type": "stream",
          "text": [
            "Requirement already satisfied: mysql-connector in /usr/local/lib/python3.6/dist-packages (2.2.9)\n"
          ],
          "name": "stdout"
        }
      ]
    },
    {
      "cell_type": "code",
      "metadata": {
        "id": "sRu1Q4b-mR1D",
        "colab_type": "code",
        "colab": {}
      },
      "source": [
        "%reload_ext autoreload\n",
        "%autoreload 2\n",
        "%matplotlib inline\n"
      ],
      "execution_count": 0,
      "outputs": []
    },
    {
      "cell_type": "code",
      "metadata": {
        "id": "zHOnkLcBgUz4",
        "colab_type": "code",
        "colab": {}
      },
      "source": [
        "# Add in MySQL connection\n",
        "import mysql.connector\n",
        "from mysql.connector import (connection)"
      ],
      "execution_count": 0,
      "outputs": []
    },
    {
      "cell_type": "code",
      "metadata": {
        "id": "RoU6YZpRj07f",
        "colab_type": "code",
        "colab": {}
      },
      "source": [
        "# Mount the drive to access my Google storage\n",
        "from google.colab import drive\n",
        "drive.mount(\"/content/gdrive\")\n"
      ],
      "execution_count": 0,
      "outputs": []
    },
    {
      "cell_type": "code",
      "metadata": {
        "id": "fEkxESFFj9BY",
        "colab_type": "code",
        "colab": {}
      },
      "source": [
        "location = '/content/gdrive/My Drive/BTCdatasets/' # Change to drive when set up\n",
        "path = datapath4file(location)"
      ],
      "execution_count": 0,
      "outputs": []
    },
    {
      "cell_type": "code",
      "metadata": {
        "id": "9yVdvDX2fh09",
        "colab_type": "code",
        "colab": {}
      },
      "source": [
        "# Connect to the database\n",
        "cnx = connection.MySQLConnection(user='biosearc_test', password='D0f7znHyE8bsepB2',\n",
        "                                 host='starbuck.asoshared.com',\n",
        "                                 port='3306',\n",
        "                                 database='biosearc_prices')\n",
        "mycursor = cnx.cursor()"
      ],
      "execution_count": 0,
      "outputs": []
    },
    {
      "cell_type": "code",
      "metadata": {
        "id": "vlsltGN4_b33",
        "colab_type": "code",
        "outputId": "f296a980-7c02-4d51-e4b8-07dac72fdab1",
        "colab": {
          "base_uri": "https://localhost:8080/",
          "height": 122
        }
      },
      "source": [
        "\n",
        "mycursor.execute(\"SELECT * FROM BTCTrainingPositive\")\n",
        "\n",
        "myresult = mycursor.fetchall()\n",
        "counter = 0\n",
        "\n",
        "for x in myresult:\n",
        "  counter += 1\n",
        "  print(x)\n",
        "  if counter == 4:\n",
        "    break\n",
        "\n",
        "print(counter)"
      ],
      "execution_count": 0,
      "outputs": [
        {
          "output_type": "stream",
          "text": [
            "(1, Decimal('6860'), Decimal('6835'), Decimal('6828'), Decimal('6857'), Decimal('6848'), Decimal('6883'), Decimal('6854'), Decimal('6843'), Decimal('6826'), Decimal('6846'), Decimal('6844'), Decimal('6850'), Decimal('6861'), Decimal('6847'), Decimal('6833'), Decimal('6780'), Decimal('6786'), Decimal('6759'), Decimal('6725'), Decimal('6740'), Decimal('6738'), Decimal('6709'), Decimal('6702'), Decimal('6712'), Decimal('6724'), Decimal('6694'), Decimal('6694'), Decimal('6698'), Decimal('6693'), Decimal('6721'), Decimal('6700'), Decimal('6724'), Decimal('6630'), Decimal('6626'), Decimal('6588'), Decimal('6618'))\n",
            "(1, Decimal('7491'), Decimal('7491'), Decimal('7483'), Decimal('7483'), Decimal('7483'), Decimal('7483'), Decimal('7483'), Decimal('7480'), Decimal('7493'), Decimal('7488'), Decimal('7510'), Decimal('7500'), Decimal('7490'), Decimal('7494'), Decimal('7487'), Decimal('7475'), Decimal('7479'), Decimal('7488'), Decimal('7493'), Decimal('7488'), Decimal('7468'), Decimal('7466'), Decimal('7449'), Decimal('7445'), Decimal('7439'), Decimal('7439'), Decimal('7440'), Decimal('7433'), Decimal('7435'), Decimal('7444'), Decimal('7469'), Decimal('7469'), Decimal('7479'), Decimal('7480'), Decimal('7458'), Decimal('7456'))\n",
            "(4408, Decimal('7491'), Decimal('7491'), Decimal('7483'), Decimal('7483'), Decimal('7483'), Decimal('7483'), Decimal('7483'), Decimal('7480'), Decimal('7493'), Decimal('7488'), Decimal('7510'), Decimal('7500'), Decimal('7490'), Decimal('7494'), Decimal('7487'), Decimal('7475'), Decimal('7479'), Decimal('7488'), Decimal('7493'), Decimal('7488'), Decimal('7468'), Decimal('7466'), Decimal('7449'), Decimal('7445'), Decimal('7439'), Decimal('7439'), Decimal('7440'), Decimal('7433'), Decimal('7435'), Decimal('7444'), Decimal('7469'), Decimal('7469'), Decimal('7479'), Decimal('7480'), Decimal('7458'), Decimal('7456'))\n",
            "(1, Decimal('6835'), Decimal('6828'), Decimal('6857'), Decimal('6848'), Decimal('6883'), Decimal('6854'), Decimal('6843'), Decimal('6826'), Decimal('6846'), Decimal('6844'), Decimal('6850'), Decimal('6861'), Decimal('6847'), Decimal('6833'), Decimal('6780'), Decimal('6786'), Decimal('6759'), Decimal('6725'), Decimal('6740'), Decimal('6738'), Decimal('6709'), Decimal('6702'), Decimal('6712'), Decimal('6724'), Decimal('6694'), Decimal('6694'), Decimal('6698'), Decimal('6693'), Decimal('6721'), Decimal('6700'), Decimal('6724'), Decimal('6630'), Decimal('6626'), Decimal('6588'), Decimal('6618'), Decimal('6540'))\n",
            "4\n"
          ],
          "name": "stdout"
        }
      ]
    },
    {
      "cell_type": "code",
      "metadata": {
        "id": "VHl9WCGNYkct",
        "colab_type": "code",
        "colab": {}
      },
      "source": [
        "# Testing the early loop termination\n",
        "counter2 = 0\n",
        "for y in range(1, 10):\n",
        "  counter2 += 1\n",
        "  print(y)\n",
        "  if counter2 == 4:\n",
        "    break"
      ],
      "execution_count": 0,
      "outputs": []
    },
    {
      "cell_type": "code",
      "metadata": {
        "id": "odDnyHg_B1wx",
        "colab_type": "code",
        "colab": {}
      },
      "source": [
        "# Import image generation tools to visualize the gramian angular descent transformations\n",
        "\n",
        "import matplotlib.pyplot as plt\n",
        "from mpl_toolkits.axes_grid1 import ImageGrid\n",
        "from pyts.image import GramianAngularField\n",
        "from pyts.datasets import load_coffee\n",
        "\n",
        "# Parameters\n",
        "X, _, _, _ = load_coffee(return_X_y=True)"
      ],
      "execution_count": 0,
      "outputs": []
    },
    {
      "cell_type": "code",
      "metadata": {
        "id": "7MWO32YTZGw4",
        "colab_type": "code",
        "colab": {}
      },
      "source": [
        "mycursor.execute(\"SELECT * FROM BTCTrainingNeutral\")\n",
        "\n",
        "myresult = mycursor.fetchall()\n",
        "counter = 0\n",
        "testlist2 = []\n",
        "\n",
        "for tracker in myresult:\n",
        "  counter += 1\n",
        "  testlist = list(tracker[2:37]) #Strip index from what's taken from the database and convert it from a tuple to a list\n",
        "  #if counter == 3: # Stops the loop after 3 iterations - FOR TESTING\n",
        "  #  break\n",
        "  for y in testlist: #Duplicates each of the terms in the list 8 times to fit the format of the GAD transform\n",
        "    testlist2.append(y)\n",
        "    testlist2.append(y)\n",
        "    testlist2.append(y)\n",
        "    testlist2.append(y)\n",
        "    testlist2.append(y)\n",
        "    testlist2.append(y)\n",
        "    testlist2.append(y)\n",
        "    testlist2.append(y)\n",
        "  \n",
        "  Finallist = testlist2 + testlist[2:8] #The final version used for the GAD transform\n",
        "  testlist2 =[]\n",
        "  # Transform the time series into Gramian Angular Fields\n",
        "  X[0] = Finallist \n",
        "  gasf = GramianAngularField(image_size=256, method='summation')\n",
        "  X_gasf = gasf.fit_transform(X)\n",
        "  gadf = GramianAngularField(image_size=256, method='difference')\n",
        "  X_gadf = gadf.fit_transform(X)\n",
        "  # Turn the Gramian Angular field into an image and then save it (currently using summation model)\n",
        "  fig = plt.figure(figsize=(7, 7), frameon=False)\n",
        "  grid = ImageGrid(fig, 111,\n",
        "                 nrows_ncols=(1, 1),\n",
        "                 axes_pad=0.15,\n",
        "                 ngrids=None,\n",
        "                 share_all=True,\n",
        "                 label_mode=\"1\",\n",
        "                 )\n",
        "  images = [X_gasf[0]]\n",
        "  titles = ['']\n",
        "  for image, title, ax in zip(images, titles, grid):\n",
        "    im = ax.imshow(image, cmap='rainbow', origin='lower')\n",
        "    ax.set_title(title, fontdict={'fontsize': 16})\n",
        "    ax.axis('off')\n",
        "\n",
        "  plt.tight_layout(pad=0)\n",
        "  plt.show() \n",
        "\n",
        "#File saving code\n",
        "  fig.savefig('/content/gdrive/My Drive/BTCdatasets/BTCTrainingNeutral/BTCTrainingNeutral' + str(counter) +'.png', dpi=fig.dpi)\n",
        "  "
      ],
      "execution_count": 0,
      "outputs": []
    },
    {
      "cell_type": "code",
      "metadata": {
        "id": "nTOqkW8KeS2O",
        "colab_type": "code",
        "colab": {}
      },
      "source": [
        "# Extract the relevant sequence of prices from the database and then create repeats within it to bring the number of list elements up to 286 \n",
        "\n",
        "mycursor.execute(\"SELECT * FROM BTCTrainingNeutral where List =25\")\n",
        "\n",
        "myresult = mycursor.fetchone()\n",
        "\n",
        "testlist = list(myresult[2:37]) #Strip index from what's taken from the database and convert it from a tuple to a list\n",
        "#testlist2 = testlist + testlist + testlist + testlist + testlist + testlist + testlist + testlist + testlist[2:8]  #turn it from 36 to 286 long by repetition\n",
        "testlist2 = []\n",
        "for x in testlist:\n",
        "  testlist2.append(x)\n",
        "  testlist2.append(x)\n",
        "  testlist2.append(x)\n",
        "  testlist2.append(x)\n",
        "  testlist2.append(x)\n",
        "  testlist2.append(x)\n",
        "  testlist2.append(x)\n",
        "  testlist2.append(x)\n",
        "\n",
        "testlist20 = testlist2 + testlist[2:8]"
      ],
      "execution_count": 0,
      "outputs": []
    },
    {
      "cell_type": "code",
      "metadata": {
        "id": "6n7fa2xwLBPl",
        "colab_type": "code",
        "colab": {}
      },
      "source": [
        "#start test code\n",
        "X[0] = testlist20\n",
        "#end test code"
      ],
      "execution_count": 0,
      "outputs": []
    },
    {
      "cell_type": "code",
      "metadata": {
        "id": "qCKce7epB_6Y",
        "colab_type": "code",
        "colab": {}
      },
      "source": [
        "# Transform the time series into Gramian Angular Fields\n",
        "gasf = GramianAngularField(image_size=256, method='summation')\n",
        "X_gasf = gasf.fit_transform(X)\n",
        "gadf = GramianAngularField(image_size=256, method='difference')\n",
        "X_gadf = gadf.fit_transform(X)"
      ],
      "execution_count": 0,
      "outputs": []
    },
    {
      "cell_type": "code",
      "metadata": {
        "id": "vRwG9axfcBpy",
        "colab_type": "code",
        "outputId": "1a108050-4e9e-4075-b0ce-f48109dc7d92",
        "colab": {
          "base_uri": "https://localhost:8080/",
          "height": 552
        }
      },
      "source": [
        "# Turn the Gramian Angular field into an image and then save it (currently using summation model)\n",
        "fig = plt.figure(figsize=(7, 7), frameon=False)\n",
        "grid = ImageGrid(fig, 111,\n",
        "                 nrows_ncols=(1, 1),\n",
        "                 axes_pad=0.15,\n",
        "                 ngrids=None,\n",
        "                 share_all=True,\n",
        "                 label_mode=\"1\",\n",
        "                 )\n",
        "images = [X_gasf[0]]\n",
        "titles = ['']\n",
        "for image, title, ax in zip(images, titles, grid):\n",
        "    im = ax.imshow(image, cmap='rainbow', origin='lower')\n",
        "    ax.set_title(title, fontdict={'fontsize': 16})\n",
        "    ax.axis('off')\n",
        "\n",
        "\n",
        "plt.tight_layout(pad=0)\n",
        "plt.show() \n",
        "\n",
        "#File saving code\n",
        "fig.savefig('/content/gdrive/My Drive/BTCdatasets/temp.png', dpi=fig.dpi)\n",
        "\n",
        "\n"
      ],
      "execution_count": 0,
      "outputs": [
        {
          "output_type": "stream",
          "text": [
            "/usr/local/lib/python3.6/dist-packages/ipykernel_launcher.py:17: UserWarning: This figure includes Axes that are not compatible with tight_layout, so results might be incorrect.\n"
          ],
          "name": "stderr"
        },
        {
          "output_type": "display_data",
          "data": {
            "image/png": "[encoded data removed]",
            "text/plain": [
              "<Figure size 504x504 with 2 Axes>"
            ]
          },
          "metadata": {
            "tags": []
          }
        }
      ]
    }
  ]
}